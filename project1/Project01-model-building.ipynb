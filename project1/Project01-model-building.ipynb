{
 "cells": [
  {
   "cell_type": "code",
   "execution_count": 101,
   "metadata": {},
   "outputs": [
    {
     "data": {
      "text/plain": [
       "[('为什么', 0.8298794627189636),\n",
       " ('问', 0.8270461559295654),\n",
       " ('说道', 0.8173126578330994),\n",
       " ('为何', 0.8128331899642944),\n",
       " ('告诉', 0.7882134318351746),\n",
       " ('吗', 0.7878919839859009),\n",
       " ('的话', 0.7855218648910522),\n",
       " ('所说', 0.7767419219017029),\n",
       " ('觉得', 0.7696527242660522),\n",
       " ('讲', 0.7678855657577515),\n",
       " ('怎么样', 0.7658766508102417),\n",
       " ('声称', 0.764196515083313),\n",
       " ('以为', 0.7633250951766968),\n",
       " ('问道', 0.7630106210708618),\n",
       " ('认为', 0.758924126625061),\n",
       " ('中说', 0.751205325126648),\n",
       " ('时说', 0.7498580813407898),\n",
       " ('写道', 0.7494862079620361),\n",
       " ('告诫', 0.7469834089279175),\n",
       " ('说起', 0.7460322380065918),\n",
       " ('确信', 0.7414821982383728),\n",
       " ('质问', 0.7364925146102905),\n",
       " ('谈论', 0.7361835241317749),\n",
       " ('感叹', 0.7359782457351685),\n",
       " ('说出', 0.7354288101196289),\n",
       " ('谁', 0.7353894710540771),\n",
       " ('称', 0.7324063181877136),\n",
       " ('却说', 0.7310951948165894),\n",
       " ('也许', 0.7306363582611084),\n",
       " ('或许', 0.730185866355896)]"
      ]
     },
     "execution_count": 101,
     "metadata": {},
     "output_type": "execute_result"
    }
   ],
   "source": [
    "import os\n",
    "from gensim.models import Word2Vec\n",
    "from gensim.models.word2vec import LineSentence\n",
    "from gensim.test.utils import datapath\n",
    "\n",
    "model_file = \"zh_word2vec.model\"\n",
    "model = Word2Vec.load(model_file)\n",
    "\n",
    "model.wv.most_similar(\"说\", topn=30)\n",
    "\n"
   ]
  },
  {
   "cell_type": "code",
   "execution_count": null,
   "metadata": {},
   "outputs": [],
   "source": []
  },
  {
   "cell_type": "code",
   "execution_count": 25,
   "metadata": {},
   "outputs": [],
   "source": [
    "import pandas as pd"
   ]
  },
  {
   "cell_type": "code",
   "execution_count": 26,
   "metadata": {},
   "outputs": [],
   "source": [
    "news_chinese = pd.read_csv(\"/home/weiliang/news_chinese_201908201131.csv\")"
   ]
  },
  {
   "cell_type": "code",
   "execution_count": 4,
   "metadata": {},
   "outputs": [],
   "source": [
    "news = news_chinese.content.to_list()"
   ]
  },
  {
   "cell_type": "code",
   "execution_count": 116,
   "metadata": {},
   "outputs": [],
   "source": [
    "import re \n",
    "import jieba\n",
    "def clean(news_text):\n",
    "    text_only = ''.join(re.findall(r'\\w+', news_text)) # only retain valid words\n",
    "    return text_only.replace('n', '') # remove n in news\n",
    "def cut(string):\n",
    "    return list(jieba.cut(string))"
   ]
  },
  {
   "cell_type": "code",
   "execution_count": 117,
   "metadata": {},
   "outputs": [
    {
     "name": "stderr",
     "output_type": "stream",
     "text": [
      "Building prefix dict from the default dictionary ...\n",
      "Dumping model to file cache /tmp/jieba.cache\n",
      "Loading model cost 1.030 seconds.\n",
      "Prefix dict has been built succesfully.\n"
     ]
    },
    {
     "name": "stdout",
     "output_type": "stream",
     "text": [
      "70173\n"
     ]
    }
   ],
   "source": [
    "news_clean = [' '.join(cut(clean(n))) for n in news]\n",
    "news_news_clean_len = len(news_clean)\n",
    "print(news_news_clean_len)\n"
   ]
  },
  {
   "cell_type": "code",
   "execution_count": 118,
   "metadata": {},
   "outputs": [
    {
     "name": "stdout",
     "output_type": "stream",
     "text": [
      "11877241\n"
     ]
    }
   ],
   "source": [
    "word_total = sum([len(nc.split()) for nc in news_clean])\n",
    "print(word_total)"
   ]
  },
  {
   "cell_type": "code",
   "execution_count": 119,
   "metadata": {},
   "outputs": [],
   "source": [
    "with open('chinese_news.corps', 'a+') as f:\n",
    "    for nc in news_clean:\n",
    "        f.write(nc + \"\\n\")"
   ]
  },
  {
   "cell_type": "code",
   "execution_count": 120,
   "metadata": {},
   "outputs": [],
   "source": [
    "sentences = LineSentence('chinese_news.corps')"
   ]
  },
  {
   "cell_type": "code",
   "execution_count": 121,
   "metadata": {},
   "outputs": [],
   "source": [
    "model1 = Word2Vec(sentences, size=100, window=5, min_count=1, workers=4)"
   ]
  },
  {
   "cell_type": "code",
   "execution_count": 125,
   "metadata": {},
   "outputs": [
    {
     "data": {
      "text/plain": [
       "[('表示', 0.8463233709335327),\n",
       " ('认为', 0.7879735231399536),\n",
       " ('指出', 0.7721938490867615),\n",
       " ('告诉', 0.7540926337242126),\n",
       " ('说完', 0.715735673904419),\n",
       " ('看来', 0.6958412528038025),\n",
       " ('称', 0.6870326995849609),\n",
       " ('介绍', 0.6813185214996338),\n",
       " ('坦言', 0.6690934896469116),\n",
       " ('透露', 0.6331932544708252),\n",
       " ('中说', 0.6209747791290283),\n",
       " ('明说', 0.584187388420105),\n",
       " ('罗恩费伦', 0.5742655992507935),\n",
       " ('所说', 0.5712404251098633),\n",
       " ('强调', 0.5711138248443604),\n",
       " ('时说', 0.5316095948219299),\n",
       " ('建议', 0.5299563407897949),\n",
       " ('文说', 0.5233355760574341),\n",
       " ('写道', 0.4978210926055908),\n",
       " ('温德姆', 0.49491986632347107)]"
      ]
     },
     "execution_count": 125,
     "metadata": {},
     "output_type": "execute_result"
    }
   ],
   "source": [
    "model1.wv.most_similar('说', topn=20)"
   ]
  },
  {
   "cell_type": "markdown",
   "metadata": {},
   "source": [
    "### train model with chinsese news"
   ]
  },
  {
   "cell_type": "code",
   "execution_count": 132,
   "metadata": {},
   "outputs": [
    {
     "data": {
      "text/plain": [
       "5"
      ]
     },
     "execution_count": 132,
     "metadata": {},
     "output_type": "execute_result"
    }
   ],
   "source": [
    "model.epochs"
   ]
  },
  {
   "cell_type": "code",
   "execution_count": 137,
   "metadata": {},
   "outputs": [
    {
     "data": {
      "text/plain": [
       "(49138219, 59386205)"
      ]
     },
     "execution_count": 137,
     "metadata": {},
     "output_type": "execute_result"
    }
   ],
   "source": [
    "\n",
    "model.train(sentences, total_examples=model.corpus_count, epochs=model.epochs)"
   ]
  },
  {
   "cell_type": "code",
   "execution_count": 138,
   "metadata": {},
   "outputs": [],
   "source": [
    "model.save(\"wiki_and_chinese_news_word2vec.model\")"
   ]
  },
  {
   "cell_type": "code",
   "execution_count": 139,
   "metadata": {},
   "outputs": [
    {
     "data": {
      "text/plain": [
       "[('表示', 0.8655452132225037),\n",
       " ('告诉', 0.8081321120262146),\n",
       " ('认为', 0.8065691590309143),\n",
       " ('指出', 0.7971088886260986),\n",
       " ('说完', 0.7543131113052368),\n",
       " ('介绍', 0.6950348615646362),\n",
       " ('坦言', 0.6608978509902954),\n",
       " ('称', 0.6517000198364258),\n",
       " ('看来', 0.6478255987167358),\n",
       " ('时说', 0.6423693895339966),\n",
       " ('强调', 0.6018719673156738),\n",
       " ('中说', 0.5731960535049438),\n",
       " ('透露', 0.5685068964958191),\n",
       " ('相信', 0.5671338438987732),\n",
       " ('所说', 0.5622093677520752),\n",
       " ('深信', 0.5584651231765747),\n",
       " ('并不认为', 0.5563322305679321),\n",
       " ('的话', 0.5453881025314331),\n",
       " ('写道', 0.5218533277511597),\n",
       " ('形容', 0.5168880224227905),\n",
       " ('坚信', 0.5134227871894836),\n",
       " ('還說', 0.50819993019104),\n",
       " ('認为', 0.5064188241958618),\n",
       " ('明白', 0.5037347078323364),\n",
       " ('認為', 0.5025042295455933),\n",
       " ('确信', 0.5017237663269043),\n",
       " ('深知', 0.5001986622810364),\n",
       " ('建议', 0.4999033808708191),\n",
       " ('说道', 0.49879705905914307),\n",
       " ('问', 0.496876060962677)]"
      ]
     },
     "execution_count": 139,
     "metadata": {},
     "output_type": "execute_result"
    }
   ],
   "source": [
    "model.wv.most_similar(\"说\", topn=30)"
   ]
  },
  {
   "cell_type": "code",
   "execution_count": 148,
   "metadata": {},
   "outputs": [],
   "source": [
    "from collections import defaultdict\n",
    "def most_similar(start_word, max_layer=3):\n",
    "    word_paths = [[start_word]]\n",
    "    occurences = defaultdict(int)\n",
    "    searched_words = {}\n",
    "    similar_words_in_layers = [start_word]\n",
    "    while True:\n",
    "        if len(word_paths) > 0:\n",
    "            word_path = word_paths.pop(0)\n",
    "        else:\n",
    "            return occurences\n",
    "        word = word_path[-1]\n",
    "        if word in searched_words:\n",
    "            similar_words = searched_words[word]\n",
    "            \n",
    "        else:\n",
    "            similar_words_with_possibility = model.wv.most_similar(word, topn=30)\n",
    "            similar_words = [word for word, posibility in similar_words_with_possibility]\n",
    "        for similar_word in similar_words:\n",
    "            if start_word == similar_word:\n",
    "                if word not in similar_words_in_layers:\n",
    "                    #similar_words_in_layers.append(word)\n",
    "                    for word in word_path:\n",
    "                        occurences[word] += 1\n",
    "            else:\n",
    "                new_word_path = word_path+[similar_word]\n",
    "                if similar_word not in word_path and len(new_word_path) <= max_layer:\n",
    "                    word_paths.append(new_word_path)\n",
    "                \n",
    "        searched_words[word] = similar_words\n"
   ]
  },
  {
   "cell_type": "code",
   "execution_count": 149,
   "metadata": {},
   "outputs": [],
   "source": [
    "most_similar_words = most_similar(\"说\", 3)\n",
    "from collections import Counter\n",
    "counter = Counter(most_similar_words)"
   ]
  },
  {
   "cell_type": "code",
   "execution_count": 150,
   "metadata": {},
   "outputs": [
    {
     "data": {
      "text/plain": [
       "[('说', 171),\n",
       " ('认为', 30),\n",
       " ('表示', 28),\n",
       " ('告诉', 27),\n",
       " ('指出', 27),\n",
       " ('看来', 22),\n",
       " ('说完', 21),\n",
       " ('时说', 20),\n",
       " ('坦言', 19),\n",
       " ('强调', 17),\n",
       " ('中说', 17),\n",
       " ('介绍', 16),\n",
       " ('称', 16),\n",
       " ('透露', 15),\n",
       " ('所说', 12),\n",
       " ('相信', 10),\n",
       " ('建议', 10),\n",
       " ('的话', 5),\n",
       " ('形容', 2),\n",
       " ('写道', 2)]"
      ]
     },
     "execution_count": 150,
     "metadata": {},
     "output_type": "execute_result"
    }
   ],
   "source": [
    "counter.most_common(20)"
   ]
  },
  {
   "cell_type": "code",
   "execution_count": 145,
   "metadata": {},
   "outputs": [
    {
     "data": {
      "text/plain": [
       "[('表示', 0.8655452132225037),\n",
       " ('告诉', 0.8081321120262146),\n",
       " ('认为', 0.8065691590309143),\n",
       " ('指出', 0.7971088886260986),\n",
       " ('说完', 0.7543131113052368),\n",
       " ('介绍', 0.6950348615646362),\n",
       " ('坦言', 0.6608978509902954),\n",
       " ('称', 0.6517000198364258),\n",
       " ('看来', 0.6478255987167358),\n",
       " ('时说', 0.6423693895339966),\n",
       " ('强调', 0.6018719673156738),\n",
       " ('中说', 0.5731960535049438),\n",
       " ('透露', 0.5685068964958191),\n",
       " ('相信', 0.5671338438987732),\n",
       " ('所说', 0.5622093677520752),\n",
       " ('深信', 0.5584651231765747),\n",
       " ('并不认为', 0.5563322305679321),\n",
       " ('的话', 0.5453881025314331),\n",
       " ('写道', 0.5218533277511597),\n",
       " ('形容', 0.5168880224227905)]"
      ]
     },
     "execution_count": 145,
     "metadata": {},
     "output_type": "execute_result"
    }
   ],
   "source": [
    "model.wv.most_similar(\"说\", topn=20)"
   ]
  },
  {
   "cell_type": "code",
   "execution_count": null,
   "metadata": {},
   "outputs": [],
   "source": []
  }
 ],
 "metadata": {
  "kernelspec": {
   "display_name": "Python 3",
   "language": "python",
   "name": "python3"
  },
  "language_info": {
   "codemirror_mode": {
    "name": "ipython",
    "version": 3
   },
   "file_extension": ".py",
   "mimetype": "text/x-python",
   "name": "python",
   "nbconvert_exporter": "python",
   "pygments_lexer": "ipython3",
   "version": "3.7.3"
  }
 },
 "nbformat": 4,
 "nbformat_minor": 2
}
