{
 "cells": [
  {
   "cell_type": "code",
   "execution_count": 62,
   "metadata": {},
   "outputs": [
    {
     "data": {
      "text/plain": [
       "[('为什么', 0.8298794627189636),\n",
       " ('问', 0.8270461559295654),\n",
       " ('说道', 0.8173126578330994),\n",
       " ('为何', 0.8128331899642944),\n",
       " ('告诉', 0.7882134318351746),\n",
       " ('吗', 0.7878919839859009),\n",
       " ('的话', 0.7855218648910522),\n",
       " ('所说', 0.7767419219017029),\n",
       " ('觉得', 0.7696527242660522),\n",
       " ('讲', 0.7678855657577515),\n",
       " ('怎么样', 0.7658766508102417),\n",
       " ('声称', 0.764196515083313),\n",
       " ('以为', 0.7633250951766968),\n",
       " ('问道', 0.7630106210708618),\n",
       " ('认为', 0.758924126625061),\n",
       " ('中说', 0.751205325126648),\n",
       " ('时说', 0.7498580813407898),\n",
       " ('写道', 0.7494862079620361),\n",
       " ('告诫', 0.7469834089279175),\n",
       " ('说起', 0.7460322380065918),\n",
       " ('确信', 0.7414821982383728),\n",
       " ('质问', 0.7364925146102905),\n",
       " ('谈论', 0.7361835241317749),\n",
       " ('感叹', 0.7359782457351685),\n",
       " ('说出', 0.7354288101196289),\n",
       " ('谁', 0.7353894710540771),\n",
       " ('称', 0.7324063181877136),\n",
       " ('却说', 0.7310951948165894),\n",
       " ('也许', 0.7306363582611084),\n",
       " ('或许', 0.730185866355896)]"
      ]
     },
     "execution_count": 62,
     "metadata": {},
     "output_type": "execute_result"
    }
   ],
   "source": [
    "import os\n",
    "from gensim.models import Word2Vec\n",
    "from gensim.models.word2vec import LineSentence\n",
    "model_file = \"zh_word2vec.model\"\n",
    "model = Word2Vec.load(model_file)\n",
    "\n",
    "model.wv.most_similar(\"说\", topn=30)\n"
   ]
  },
  {
   "cell_type": "code",
   "execution_count": 80,
   "metadata": {},
   "outputs": [],
   "source": [
    "from collections import defaultdict\n",
    "def most_similar(start_word, max_layer=7):\n",
    "    word_paths = [[start_word]]\n",
    "    occurences = defaultdict(int)\n",
    "    searched_words = {}\n",
    "    similar_words_in_layers = [start_word]\n",
    "    while True:\n",
    "        if len(word_paths) > 0:\n",
    "            word_path = word_paths.pop(0)\n",
    "        else:\n",
    "            return occurences\n",
    "        word = word_path[-1]\n",
    "        if word in searched_words:\n",
    "            similar_words = searched_words[word]\n",
    "        else:\n",
    "            similar_words_with_possibility = model.wv.most_similar(word, topn=20)\n",
    "            similar_words = [word for word, posibility in similar_words_with_possibility]\n",
    "        for similar_word in similar_words:\n",
    "            if start_word == similar_word:\n",
    "                if word not in similar_words_in_layers:\n",
    "                    #similar_words_in_layers.append(word)\n",
    "                    for word in word_path:\n",
    "                        occurences[word] += 1\n",
    "            else:\n",
    "                new_word_path = word_path+[similar_word]\n",
    "                if similar_word not in word_path and len(new_word_path) <= max_layer:\n",
    "                    word_paths.append(new_word_path)\n",
    "                \n",
    "        searched_words[word] = similar_words\n"
   ]
  },
  {
   "cell_type": "code",
   "execution_count": null,
   "metadata": {},
   "outputs": [],
   "source": [
    "most_similar_words = most_similar(\"说\")\n",
    "from collections import Counter\n",
    "counter = Counter(most_similar_words)"
   ]
  },
  {
   "cell_type": "code",
   "execution_count": null,
   "metadata": {},
   "outputs": [],
   "source": [
    "counter.most_common(15)"
   ]
  },
  {
   "cell_type": "code",
   "execution_count": null,
   "metadata": {},
   "outputs": [],
   "source": [
    "model.wv.most_similar(\"说\", topn=15)"
   ]
  },
  {
   "cell_type": "code",
   "execution_count": null,
   "metadata": {},
   "outputs": [],
   "source": []
  }
 ],
 "metadata": {
  "kernelspec": {
   "display_name": "Python 3",
   "language": "python",
   "name": "python3"
  },
  "language_info": {
   "codemirror_mode": {
    "name": "ipython",
    "version": 3
   },
   "file_extension": ".py",
   "mimetype": "text/x-python",
   "name": "python",
   "nbconvert_exporter": "python",
   "pygments_lexer": "ipython3",
   "version": "3.7.3"
  }
 },
 "nbformat": 4,
 "nbformat_minor": 2
}
