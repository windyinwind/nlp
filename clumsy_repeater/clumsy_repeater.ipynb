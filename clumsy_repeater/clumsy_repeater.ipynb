{
 "nbformat": 4,
 "nbformat_minor": 2,
 "metadata": {
  "language_info": {
   "name": "python",
   "codemirror_mode": {
    "name": "ipython",
    "version": 3
   },
   "version": "3.7.3"
  },
  "orig_nbformat": 2,
  "file_extension": ".py",
  "mimetype": "text/x-python",
  "name": "python",
  "npconvert_exporter": "python",
  "pygments_lexer": "ipython3",
  "version": 3
 },
 "cells": [
  {
   "cell_type": "code",
   "execution_count": 43,
   "metadata": {},
   "outputs": [],
   "source": [
    "import os\n",
    "from gensim.models import KeyedVectors\n",
    "from gensim.test.utils import datapath\n",
    "import random\n",
    "import re"
   ]
  },
  {
   "cell_type": "code",
   "execution_count": 37,
   "metadata": {},
   "outputs": [],
   "source": [
    "base_dir = os.getcwd()"
   ]
  },
  {
   "cell_type": "code",
   "execution_count": 38,
   "metadata": {},
   "outputs": [],
   "source": [
    "\n",
    "model_path = datapath(base_dir + '/wiki-news-300d-1M-subword.vec')\n",
    "model = KeyedVectors.load_word2vec_format(model_path, limit=50000)"
   ]
  },
  {
   "cell_type": "code",
   "execution_count": 39,
   "metadata": {},
   "outputs": [
    {
     "data": {
      "text/plain": "[('seeing', 0.712621808052063),\n ('find', 0.7058841586112976),\n ('know', 0.6970934867858887),\n ('look', 0.6960064172744751),\n ('seen', 0.6926702857017517),\n ('tell', 0.6880333423614502),\n ('hear', 0.6844581365585327),\n ('think', 0.677257776260376),\n ('say', 0.6671066880226135),\n ('saw', 0.6655246019363403)]"
     },
     "execution_count": 39,
     "metadata": {},
     "output_type": "execute_result"
    }
   ],
   "source": [
    "model.most_similar('see')"
   ]
  },
  {
   "cell_type": "code",
   "execution_count": 46,
   "metadata": {},
   "outputs": [
    {
     "name": "stdout",
     "output_type": "stream",
     "text": "We still those gulls throughout our parking\n"
    }
   ],
   "source": [
    "sentence = \"There are some , pigeons in the park.\"\n",
    "sentence = ' '.join(re.findall(r'\\w+', sentence))\n",
    "sens = sentence.split(\" \")\n",
    "repeater_say = []\n",
    "for s in sens:\n",
    "    rs = model.most_similar(s)\n",
    "    cr = random.choice(rs)\n",
    "    word = cr[0]\n",
    "    repeater_say.append(word)\n",
    "text = ' '.join(repeater_say)\n",
    "print(text)\n"
   ]
  },
  {
   "cell_type": "code",
   "execution_count": 47,
   "metadata": {},
   "outputs": [
    {
     "data": {
      "text/plain": "[('were', 0.8099592328071594),\n ('arent', 0.7665972709655762),\n ('aren', 0.7590493559837341),\n ('is', 0.7420769929885864),\n (\"'re\", 0.7027387619018555),\n ('remain', 0.685725748538971),\n ('be', 0.6837263107299805),\n ('generally', 0.6729549765586853),\n ('have', 0.6709401607513428),\n ('still', 0.6678115725517273)]"
     },
     "execution_count": 47,
     "metadata": {},
     "output_type": "execute_result"
    }
   ],
   "source": [
    "model.most_similar('are')"
   ]
  },
  {
   "cell_type": "code",
   "execution_count": 48,
   "metadata": {},
   "outputs": [
    {
     "ename": "TypeError",
     "evalue": "most_similar_to_given() missing 1 required positional argument: 'entities_list'",
     "output_type": "error",
     "traceback": [
      "\u001b[0;31m---------------------------------------------------------------------------\u001b[0m",
      "\u001b[0;31mTypeError\u001b[0m                                 Traceback (most recent call last)",
      "\u001b[0;32m<ipython-input-48-ec33467afe07>\u001b[0m in \u001b[0;36m<module>\u001b[0;34m\u001b[0m\n\u001b[0;32m----> 1\u001b[0;31m \u001b[0mmodel\u001b[0m\u001b[0;34m.\u001b[0m\u001b[0mmost_similar_to_given\u001b[0m\u001b[0;34m(\u001b[0m\u001b[0;34m'were'\u001b[0m\u001b[0;34m)\u001b[0m\u001b[0;34m\u001b[0m\u001b[0;34m\u001b[0m\u001b[0m\n\u001b[0m",
      "\u001b[0;31mTypeError\u001b[0m: most_similar_to_given() missing 1 required positional argument: 'entities_list'"
     ]
    }
   ],
   "source": [
    "model.most_similar_to_given('were')"
   ]
  },
  {
   "cell_type": "code",
   "execution_count": null,
   "metadata": {},
   "outputs": [],
   "source": []
  },
  {
   "cell_type": "code",
   "execution_count": null,
   "metadata": {},
   "outputs": [],
   "source": []
  },
  {
   "cell_type": "code",
   "execution_count": null,
   "metadata": {},
   "outputs": [],
   "source": []
  }
 ]
}