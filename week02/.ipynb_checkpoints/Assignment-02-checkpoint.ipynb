{
 "cells": [
  {
   "cell_type": "markdown",
   "metadata": {},
   "source": [
    "## Assignments for Week-02"
   ]
  },
  {
   "cell_type": "markdown",
   "metadata": {},
   "source": [
    "In this course, we learnt what's the search problem and what's the machine leanring. In this assignment, we need you do some more practice."
   ]
  },
  {
   "cell_type": "markdown",
   "metadata": {},
   "source": [
    "### 1. Re-code the house price machine learning\n",
    "\n",
    "###### 1. Random Choose Method to get optimal *k* and *b*\n",
    "###### 2.Supervised Direction to get optimal *k* and *b*\n",
    "###### 3.Gradient Descent to get optimal *k* and *b*\n",
    "###### 4. Try different Loss function and learning rate. \n",
    "\n",
    "For example, you can change the loss function: $Loss = \\frac{1}{n} sum({y_i - \\hat{y_i}})^2$ to $Loss = \\frac{1}{n} sum(|{y_i - \\hat{y_i}}|)$\n",
    "\n",
    "And you can change the learning rate and observe the performance."
   ]
  },
  {
   "cell_type": "markdown",
   "metadata": {},
   "source": [
    "## anwsers:"
   ]
  },
  {
   "cell_type": "code",
   "execution_count": 2,
   "metadata": {},
   "outputs": [],
   "source": [
    "from sklearn.datasets import load_boston"
   ]
  },
  {
   "cell_type": "markdown",
   "metadata": {},
   "source": [
    "##### 1.1 Random Choose Method to get optimal k* and *b"
   ]
  },
  {
   "cell_type": "code",
   "execution_count": 57,
   "metadata": {},
   "outputs": [],
   "source": [
    "%matplotlib inline"
   ]
  },
  {
   "cell_type": "code",
   "execution_count": 58,
   "metadata": {},
   "outputs": [],
   "source": [
    "import matplotlib.pyplot as plot"
   ]
  },
  {
   "cell_type": "code",
   "execution_count": 59,
   "metadata": {},
   "outputs": [],
   "source": [
    "data = load_boston()"
   ]
  },
  {
   "cell_type": "code",
   "execution_count": 60,
   "metadata": {},
   "outputs": [],
   "source": [
    "X, Y = data['data'], data['target']"
   ]
  },
  {
   "cell_type": "code",
   "execution_count": 61,
   "metadata": {},
   "outputs": [],
   "source": [
    "X_RM = X[:, 5]"
   ]
  },
  {
   "cell_type": "code",
   "execution_count": 66,
   "metadata": {},
   "outputs": [],
   "source": [
    "def draw_rm_and_price():\n",
    "    plot.scatter(X_RM, Y)"
   ]
  },
  {
   "cell_type": "code",
   "execution_count": 67,
   "metadata": {},
   "outputs": [
    {
     "data": {
      "image/png": "[encoded data removed]",
      "text/plain": [
       "<Figure size 432x288 with 1 Axes>"
      ]
     },
     "metadata": {
      "needs_background": "light"
     },
     "output_type": "display_data"
    }
   ],
   "source": [
    "draw_rm_and_price()"
   ]
  },
  {
   "cell_type": "code",
   "execution_count": 37,
   "metadata": {},
   "outputs": [],
   "source": [
    "def price(x, k, b):\n",
    "    return k * x + b"
   ]
  },
  {
   "cell_type": "code",
   "execution_count": 7,
   "metadata": {},
   "outputs": [],
   "source": []
  },
  {
   "cell_type": "code",
   "execution_count": 75,
   "metadata": {},
   "outputs": [],
   "source": [
    "import random\n",
    "k = random.randint(-100, 100)\n",
    "b = random.randint(-100, 100)"
   ]
  },
  {
   "cell_type": "code",
   "execution_count": null,
   "metadata": {},
   "outputs": [],
   "source": []
  },
  {
   "cell_type": "code",
   "execution_count": 76,
   "metadata": {},
   "outputs": [],
   "source": [
    "price_by_random_k_and_b = [price(rm, k, b) for rm in X_RM]"
   ]
  },
  {
   "cell_type": "code",
   "execution_count": 77,
   "metadata": {},
   "outputs": [],
   "source": [
    "%matplotlib inline"
   ]
  },
  {
   "cell_type": "code",
   "execution_count": 78,
   "metadata": {},
   "outputs": [
    {
     "data": {
      "text/plain": [
       "<matplotlib.collections.PathCollection at 0x7f3de61df3c8>"
      ]
     },
     "execution_count": 78,
     "metadata": {},
     "output_type": "execute_result"
    },
    {
     "data": {
      "image/png": "[encoded data removed]",
      "text/plain": [
       "<Figure size 432x288 with 1 Axes>"
      ]
     },
     "metadata": {
      "needs_background": "light"
     },
     "output_type": "display_data"
    }
   ],
   "source": [
    "draw_rm_and_price()\n",
    "plot.scatter(X_RM, price_by_random_k_and_b)"
   ]
  },
  {
   "cell_type": "code",
   "execution_count": 98,
   "metadata": {},
   "outputs": [],
   "source": [
    "z = zip([1, 2, 3], [4, 5, 6])"
   ]
  },
  {
   "cell_type": "code",
   "execution_count": 97,
   "metadata": {},
   "outputs": [
    {
     "data": {
      "text/plain": [
       "9.0"
      ]
     },
     "execution_count": 97,
     "metadata": {},
     "output_type": "execute_result"
    }
   ],
   "source": [
    "sum([(y-y_hat)**2 for y, y_hat in z])/3"
   ]
  },
  {
   "cell_type": "code",
   "execution_count": 99,
   "metadata": {},
   "outputs": [],
   "source": [
    "def loss(y, y_hat):\n",
    "    return sum([(y_i - y_hat_i)**2 for y_i, y_hat_i in zip(list(y), list(y_hat))]) / len(y)"
   ]
  },
  {
   "cell_type": "code",
   "execution_count": 100,
   "metadata": {},
   "outputs": [
    {
     "data": {
      "text/plain": [
       "9.0"
      ]
     },
     "execution_count": 100,
     "metadata": {},
     "output_type": "execute_result"
    }
   ],
   "source": [
    "loss([1,2,3], [4,5,6])"
   ]
  },
  {
   "cell_type": "code",
   "execution_count": 127,
   "metadata": {},
   "outputs": [],
   "source": [
    "def get_k_and_b_by_random(times):\n",
    "    cur_loss = float('inf')\n",
    "    best_k, best_b = None, None\n",
    "    for i in range(times+1):\n",
    "        k = random.random() * 200 -100\n",
    "        b = random.random() * 200 -100\n",
    "        Y_hat = [price(rm, k, b) for rm in X_RM]\n",
    "        new_loss = loss(Y, Y_hat)\n",
    "        if new_loss < cur_loss:\n",
    "            cur_loss = new_loss\n",
    "            best_k, best_b = k, b\n",
    "            print(\"{} times, best_k is {} and best_b is {} , loss is {}\".format(i, best_k, best_b, cur_loss))\n",
    "    return best_k, best_b\n",
    "        "
   ]
  },
  {
   "cell_type": "code",
   "execution_count": 131,
   "metadata": {},
   "outputs": [
    {
     "name": "stdout",
     "output_type": "stream",
     "text": [
      "0 times, best_k is -22.74542582365339 and best_b is 47.098336852164636 , loss is 14557.422100169073\n",
      "1 times, best_k is -7.865480206248748 and best_b is 6.781080942329098 , loss is 4434.321744186301\n",
      "6 times, best_k is 9.670785829451802 and best_b is 0.30037300969701164 , loss is 1529.470733305128\n",
      "13 times, best_k is 5.672068703178908 and best_b is 4.664240614621534 , loss is 365.4655864448333\n",
      "29 times, best_k is 16.47878051206719 and best_b is -85.07950549005072 , loss is 86.80673125185115\n",
      "85 times, best_k is 7.184656379751516 and best_b is -26.977164540120796 , loss is 64.39573768987748\n",
      "546 times, best_k is 15.456974110152316 and best_b is -75.05408342425841 , loss is 63.69614199397614\n",
      "802 times, best_k is 7.588497336636294 and best_b is -21.84733745576324 , loss is 55.69064053958299\n",
      "1024 times, best_k is 12.549536438256865 and best_b is -58.37093186583042 , loss is 53.595263567897284\n",
      "2172 times, best_k is 10.34338409871522 and best_b is -43.95514704706691 , loss is 46.56064680779766\n"
     ]
    }
   ],
   "source": [
    "k,b = get_k_and_b_by_random(5000)"
   ]
  },
  {
   "cell_type": "code",
   "execution_count": 132,
   "metadata": {},
   "outputs": [
    {
     "data": {
      "text/plain": [
       "<matplotlib.collections.PathCollection at 0x7f3de48b7b00>"
      ]
     },
     "execution_count": 132,
     "metadata": {},
     "output_type": "execute_result"
    },
    {
     "data": {
      "image/png": "[encoded data removed]",
      "text/plain": [
       "<Figure size 432x288 with 1 Axes>"
      ]
     },
     "metadata": {
      "needs_background": "light"
     },
     "output_type": "display_data"
    }
   ],
   "source": [
    "price_by_random_k_and_b = [price(rm, k, b) for rm in X_RM]\n",
    "draw_rm_and_price()\n",
    "plot.scatter(X_RM, price_by_random_k_and_b)"
   ]
  },
  {
   "cell_type": "markdown",
   "metadata": {},
   "source": [
    "##### 1.2 Supervised Direction to get optimal *k* and *b*"
   ]
  },
  {
   "cell_type": "code",
   "execution_count": 162,
   "metadata": {},
   "outputs": [],
   "source": [
    "def get_k_and_b_by_with_supervised_direction(times):\n",
    "    cur_loss = float('inf')\n",
    "    best_k = random.random() * 200 -100\n",
    "    best_b = random.random() * 200 -100\n",
    "    directions = [\n",
    "        (1, 1),\n",
    "        (1, -1),\n",
    "        (-1, 1),\n",
    "        (-1, -1)\n",
    "    ]\n",
    "    cur_direction = random.choice(directions)\n",
    "    scalar = 0.1\n",
    "    update_times = 0\n",
    "    for i in range(times+1):\n",
    "        k = best_k + cur_direction[0] * scalar\n",
    "        b = best_b + cur_direction[1] * scalar\n",
    "        Y_hat = [price(rm, k, b) for rm in X_RM]\n",
    "        new_loss = loss(Y, Y_hat)\n",
    "        if new_loss < cur_loss:\n",
    "            cur_loss = new_loss\n",
    "            best_k, best_b = k, b\n",
    "            update_times += 1\n",
    "            if update_times % 10 == 0:\n",
    "                print(\"{} times, best_k is {} and best_b is {} , loss is {}\".format(i, best_k, best_b, cur_loss))\n",
    "        else:\n",
    "            cur_direction = random.choice(directions)\n",
    "    return best_k, best_b"
   ]
  },
  {
   "cell_type": "code",
   "execution_count": 204,
   "metadata": {},
   "outputs": [
    {
     "name": "stdout",
     "output_type": "stream",
     "text": [
      "9 times, best_k is -35.88985388004901 and best_b is 10.244480597916185 , loss is 57610.214013132354\n",
      "19 times, best_k is -32.96547696968531 and best_b is 10.702957318638092 , loss is 48879.063130621245\n",
      "29 times, best_k is -30.272102698458387 and best_b is 11.125119283439025 , loss is 41472.89879958773\n",
      "39 times, best_k is -27.791482489421746 and best_b is 11.513835261128822 , loss is 35190.64905464026\n",
      "49 times, best_k is -25.50680935334609 and best_b is 11.871747395619789 , loss is 29861.755398787187\n",
      "59 times, best_k is -23.402604007228554 and best_b is 12.20128910867437 , loss is 25341.54226356016\n",
      "69 times, best_k is -21.464609989128622 and best_b is 12.504701588384698 , loss is 21507.289171933182\n",
      "79 times, best_k is -19.679697058645363 and best_b is 12.784048975107284 , loss is 18254.898966100674\n",
      "89 times, best_k is -18.035772228493023 and best_b is 13.041232347750393 , loss is 15496.071644906844\n",
      "99 times, best_k is -16.5216978243391 and best_b is 13.278002605182895 , loss is 13155.907082657137\n",
      "109 times, best_k is -15.127216017691273 and best_b is 13.495972330047037 , loss is 11170.871544859581\n",
      "119 times, best_k is -13.842879320480082 and best_b is 13.696626715362433 , loss is 9487.072793269392\n",
      "129 times, best_k is -12.659986570379653 and best_b is 13.881333627958147 , loss is 8058.7969505857045\n",
      "139 times, best_k is -11.570523973113195 and best_b is 14.051352876921209 , loss is 6847.267401734848\n",
      "149 times, best_k is -10.567110802255252 and best_b is 14.207844749862945 , loss is 5819.592036807185\n",
      "159 times, best_k is -9.642949388601197 and best_b is 14.351877874843659 , loss is 4947.870254054762\n",
      "169 times, best_k is -8.79177906023993 and best_b is 14.4844364612267 , loss is 4208.435478726444\n",
      "179 times, best_k is -8.007833721234936 and best_b is 14.606426968524872 , loss is 3581.212632674747\n",
      "189 times, best_k is -7.285802781473667 and best_b is 14.71868424842617 , loss is 3049.1731104988394\n",
      "199 times, best_k is -6.620795172952032 and best_b is 14.821977201616301 , loss is 2597.8724652198644\n",
      "209 times, best_k is -6.0083062086741315 and best_b is 14.917013987727653 , loss is 2215.0582519890554\n",
      "219 times, best_k is -5.4441870596083275 and best_b is 15.004446823716538 , loss is 1890.3373830688467\n",
      "229 times, best_k is -4.924616642880402 and best_b is 15.08487640318176 , loss is 1614.8939630151822\n",
      "239 times, best_k is -4.446075730722638 and best_b is 15.15885596656906 , loss is 1381.2499434902602\n",
      "249 times, best_k is -4.005323104745183 and best_b is 15.22689504984057 , loss is 1183.0620996569141\n",
      "259 times, best_k is -3.5993735939548164 and best_b is 15.289462937009583 , loss is 1014.9498162105757\n",
      "269 times, best_k is -3.2254778477102275 and best_b is 15.346991839934535 , loss is 872.349007564014\n",
      "279 times, best_k is -2.88110370655856 and best_b is 15.399879826917951 , loss is 751.388206223571\n",
      "289 times, best_k is -2.563919044724967 and best_b is 15.448493519954066 , loss is 648.7834552458413\n",
      "299 times, best_k is -2.2717759679986123 and best_b is 15.493170578901248 , loss is 561.7491511810272\n",
      "309 times, best_k is -2.002696259942497 and best_b is 15.534221989411611 , loss is 487.92241695331137\n",
      "319 times, best_k is -1.7548579778129503 and best_b is 15.571934170120414 , loss is 425.29895145665665\n",
      "329 times, best_k is -1.5265831073648473 and best_b is 15.60657091337328 , loss is 372.1786142289181\n",
      "339 times, best_k is -1.3163261928934908 and best_b is 15.638375172641243 , loss is 327.1192678675321\n",
      "349 times, best_k is -1.1226638654721122 and best_b is 15.667570708734898 , loss is 288.897625041725\n",
      "359 times, best_k is -0.9442851984300005 and best_b is 15.694363605972148 , loss is 256.4760371259439\n",
      "369 times, best_k is -0.7799828247215062 and best_b is 15.718943668572825 , loss is 228.97432278990973\n",
      "379 times, best_k is -0.6286447559986227 and best_b is 15.741485706741944 , loss is 205.6458717118893\n",
      "389 times, best_k is -0.4892468479544802 and best_b is 15.762150721155914 , loss is 185.85737464827065\n",
      "399 times, best_k is -0.36084586088411846 and best_b is 15.78108699387756 , loss is 169.07162954549503\n",
      "409 times, best_k is -0.24257306844199444 and best_b is 15.798431093091853 , loss is 154.83295689270855\n",
      "419 times, best_k is -0.13362837129018618 and best_b is 15.81430879847024 , loss is 142.75482835250784\n",
      "429 times, best_k is -0.03327487575230385 and best_b is 15.828835953433755 , loss is 132.50937279604642\n",
      "439 times, best_k is 0.05916609926107112 and best_b is 15.842119250089628 , loss is 123.81847483894192\n",
      "449 times, best_k is 0.14431962088769926 and best_b is 15.85425695216009 , loss is 116.44622420967514\n",
      "459 times, best_k is 0.22276137766937185 and best_b is 15.865339560801745 , loss is 110.19251095628397\n",
      "469 times, best_k is 0.29502158032607234 and best_b is 15.875450427827062 , loss is 104.88759260585104\n",
      "479 times, best_k is 0.3615885543796381 and best_b is 15.884666320483008 , loss is 100.38748577909192\n",
      "489 times, best_k is 0.42291204896996837 and best_b is 15.893057941613737 , loss is 96.57005714570889\n",
      "499 times, best_k is 0.47940628428379306 and best_b is 15.900690408731847 , loss is 93.33170759277914\n",
      "509 times, best_k is 0.5314527582448959 and best_b is 15.907623695244315 , loss is 90.58455958374239\n",
      "519 times, best_k is 0.5794028314834777 and best_b is 15.913913036822766 , loss is 88.25407134682065\n",
      "529 times, best_k is 0.6235801081000041 and best_b is 15.91960930567165 , loss is 86.27701311980991\n",
      "539 times, best_k is 0.6642826283552137 and best_b is 15.924759355230202 , loss is 84.59975050775192\n",
      "549 times, best_k is 0.7017848881436074 and best_b is 15.929406337643925 , loss is 83.17678834789018\n",
      "559 times, best_k is 0.7363396989340486 and best_b is 15.93358999615668 , loss is 81.96953554889548\n",
      "569 times, best_k is 0.7681799007801408 and best_b is 15.937346934404593 , loss is 80.94525737063744\n",
      "579 times, best_k is 0.7975199400074625 and best_b is 15.940710864436497 , loss is 80.07618669965899\n",
      "589 times, best_k is 0.8245573222678239 and best_b is 15.943712835141431 , loss is 79.33877019212122\n",
      "599 times, best_k is 0.8494739508062061 and best_b is 15.946381442630976 , loss is 78.71302881754869\n",
      "609 times, best_k is 0.8724373590082698 and best_b is 15.948743024001978 , loss is 78.18201544259655\n",
      "619 times, best_k is 0.8936018455799778 and best_b is 15.950821835792533 , loss is 77.73135472863346\n",
      "629 times, best_k is 0.9131095200511296 and best_b is 15.952640218340461 , loss is 77.34885285169236\n",
      "639 times, best_k is 0.9310912656869722 and best_b is 15.954218747157869 , loss is 77.02416644896502\n",
      "649 times, best_k is 0.947667626332427 and best_b is 15.955576372347583 , loss is 76.74852180398098\n",
      "659 times, best_k is 0.9629496231980433 and best_b is 15.95673054700602 , loss is 76.51447664654917\n",
      "669 times, best_k is 0.9770395071220959 and best_b is 15.957697345482611 , loss is 76.31571810050262\n",
      "679 times, best_k is 0.9900314514060291 and best_b is 15.958491572297055 , loss is 76.14689129367544\n",
      "689 times, best_k is 1.0020121899177976 and best_b is 15.959126862452383 , loss is 76.00345397699543\n",
      "699 times, best_k is 1.013061604786783 and best_b is 15.959615773823591 , loss is 75.88155320570515\n",
      "709 times, best_k is 1.0232532676724224 and best_b is 15.959969872247804 , loss is 75.77792073469833\n",
      "719 times, best_k is 1.0326549382740888 and best_b is 15.960199809892565 , loss is 75.68978428802852\n",
      "729 times, best_k is 1.0413290234600574 and best_b is 15.960315397433227 , loss is 75.61479229362055\n",
      "739 times, best_k is 1.0493330001265355 and best_b is 15.96032567052854 , loss is 75.55095003979052\n",
      "749 times, best_k is 1.0567198046519866 and best_b is 15.960238951044852 , loss is 75.4965655202646\n",
      "759 times, best_k is 1.063538191585625 and best_b is 15.960062903443749 , loss is 75.45020349743262\n",
      "769 times, best_k is 1.069833064000501 and best_b is 15.959804586715233 , loss is 75.41064653668516\n",
      "779 times, best_k is 1.0756457777495934 and best_b is 15.959470502208335 , loss is 75.37686195394345\n",
      "789 times, best_k is 1.0810144216865032 and best_b is 15.959066637683213 , loss is 75.34797377903394\n",
      "799 times, best_k is 1.085974075749478 and best_b is 15.958598507883288 , loss is 75.32323897373143\n",
      "809 times, best_k is 1.0905570486575034 and best_b is 15.958071191902256 , loss is 75.30202725880831\n",
      "819 times, best_k is 1.094793096829053 and best_b is 15.957489367599235 , loss is 75.28380400240967\n",
      "829 times, best_k is 1.0987096260068545 and best_b is 15.956857343295201 , loss is 75.26811570518488\n",
      "839 times, best_k is 1.1023318769548511 and best_b is 15.956179086965482 , loss is 75.25457768810845\n",
      "849 times, best_k is 1.10568309648561 and best_b is 15.95545825312615 , loss is 75.24286364872215\n",
      "859 times, best_k is 1.1087846949770324 and best_b is 15.954698207596431 , loss is 75.23269680225972\n",
      "869 times, best_k is 1.1116563914456763 and best_b is 15.953902050304977 , loss is 75.2238423671412\n",
      "879 times, best_k is 1.114316347159678 and best_b is 15.953072636294491 , loss is 75.21610119082156\n"
     ]
    },
    {
     "name": "stdout",
     "output_type": "stream",
     "text": [
      "889 times, best_k is 1.1167812886966237 and best_b is 15.952212595067044 , loss is 75.20930434294424\n",
      "899 times, best_k is 1.1190666212801816 and best_b is 15.951324348401178 , loss is 75.20330852900412\n",
      "909 times, best_k is 1.1211865331634512 and best_b is 15.950410126761488 , loss is 75.19799220000473\n",
      "919 times, best_k is 1.1231540917663139 and best_b is 15.949471984411906 , loss is 75.19325225249187\n",
      "929 times, best_k is 1.1249813322181934 and best_b is 15.948511813335067 , loss is 75.1890012293687\n",
      "939 times, best_k is 1.1266793389061822 and best_b is 15.947531356052098 , loss is 75.18516494549922\n",
      "949 times, best_k is 1.1282583205810879 and best_b is 15.94653221742966 , loss is 75.18168047363606\n",
      "959 times, best_k is 1.1297276795303066 and best_b is 15.945515875554273 , loss is 75.17849443599007\n",
      "969 times, best_k is 1.1310960752862294 and best_b is 15.944483691747614 , loss is 75.17556155506321\n",
      "979 times, best_k is 1.1323714833018577 and best_b is 15.943436919790601 , loss is 75.17284342439667\n",
      "989 times, best_k is 1.1335612489912072 and best_b is 15.94237671441884 , loss is 75.17030746586398\n",
      "999 times, best_k is 1.1346721375006645 and best_b is 15.941304139146917 , loss is 75.16792604519729\n",
      "1009 times, best_k is 1.135710379548546 and best_b is 15.94022017347462 , loss is 75.16567572173895\n",
      "1019 times, best_k is 1.1366817136434533 and best_b is 15.939125719523869 , loss is 75.16353661204288\n",
      "1029 times, best_k is 1.1375914249674979 and best_b is 15.938021608151365 , loss is 75.16149185005438\n",
      "1039 times, best_k is 1.1384443811878542 and best_b is 15.936908604578347 , loss is 75.15952712920925\n",
      "1049 times, best_k is 1.1392450654392976 and best_b is 15.935787413575607 , loss is 75.15763031402021\n",
      "1059 times, best_k is 1.1399976067012154 and best_b is 15.934658684238917 , loss is 75.15579111060825\n",
      "1069 times, best_k is 1.1407058077749144 and best_b is 15.933523014387198 , loss is 75.15400078723036\n",
      "1079 times, best_k is 1.141373171050796 and best_b is 15.93238095461326 , loss is 75.15225193721983\n",
      "1089 times, best_k is 1.1420029222399997 and best_b is 15.931233012014523 , loss is 75.1505382779005\n",
      "1099 times, best_k is 1.142598032231307 and best_b is 15.930079653629045 , loss is 75.14885448001677\n",
      "1109 times, best_k is 1.143161237221412 and best_b is 15.928921309600097 , loss is 75.14719602304787\n",
      "1119 times, best_k is 1.1436950572549542 and best_b is 15.927758376090752 , loss is 75.14555907247978\n",
      "1129 times, best_k is 1.1442018132999423 and best_b is 15.926591217968223 , loss is 75.14394037570058\n",
      "1139 times, best_k is 1.1446836429742622 and best_b is 15.925420171276162 , loss is 75.1423371736947\n",
      "1149 times, best_k is 1.1451425150298358 and best_b is 15.92424554551163 , loss is 75.14074712613711\n",
      "1159 times, best_k is 1.1455802426925716 and best_b is 15.923067625722208 , loss is 75.13916824785642\n",
      "1169 times, best_k is 1.145998495948495 and best_b is 15.92188667443745 , loss is 75.13759885493825\n",
      "1179 times, best_k is 1.1463988128593066 and best_b is 15.920702933447728 , loss is 75.13603751900791\n",
      "1189 times, best_k is 1.1467826099840432 and best_b is 15.919516625442585 , loss is 75.13448302845227\n",
      "1199 times, best_k is 1.1471511919774582 and best_b is 15.918327955519638 , loss is 75.13293435552453\n",
      "1209 times, best_k is 1.1475057604301526 and best_b is 15.917137112574308 , loss is 75.13139062844192\n",
      "1219 times, best_k is 1.147847422010361 and best_b is 15.915944270579725 , loss is 75.12985110771758\n",
      "1229 times, best_k is 1.1481771959625615 and best_b is 15.914749589765568 , loss is 75.12831516608466\n",
      "1239 times, best_k is 1.1484960210137112 and best_b is 15.913553217703756 , loss is 75.12678227146554\n",
      "1249 times, best_k is 1.148804761733911 and best_b is 15.912355290308367 , loss is 75.12525197252711\n",
      "1259 times, best_k is 1.149104214394595 and best_b is 15.911155932756587 , loss is 75.12372388642729\n",
      "1269 times, best_k is 1.1493951123639397 and best_b is 15.909955260336893 , loss is 75.12219768842127\n",
      "1279 times, best_k is 1.1496781310760464 and best_b is 15.908753379230227 , loss is 75.12067310304516\n",
      "1289 times, best_k is 1.1499538926075774 and best_b is 15.907550387229474 , loss is 75.11914989663696\n",
      "1299 times, best_k is 1.1502229698928477 and best_b is 15.90634637440209 , loss is 75.11762787099362\n",
      "1309 times, best_k is 1.150485890605935 and best_b is 15.9051414237004 , loss is 75.11610685798938\n",
      "1319 times, best_k is 1.1507431407361157 and best_b is 15.903935611523654 , loss is 75.11458671501197\n",
      "1329 times, best_k is 1.1509951678808492 and best_b is 15.902729008235731 , loss is 75.11306732109011\n",
      "1339 times, best_k is 1.1512423842786281 and best_b is 15.901521678641885 , loss is 75.11154857361072\n",
      "1349 times, best_k is 1.1514851696022388 and best_b is 15.90031368242788 , loss is 75.11003038553106\n",
      "1359 times, best_k is 1.1517238735313644 and best_b is 15.89910507456442 , loss is 75.10851268301786\n",
      "1369 times, best_k is 1.1519588181219564 and best_b is 15.897895905679608 , loss is 75.10699540344106\n",
      "1379 times, best_k is 1.1521902999884348 and best_b is 15.896686222402018 , loss is 75.10547849367492\n",
      "1389 times, best_k is 1.1524185923135009 and best_b is 15.895476067676631 , loss is 75.10396190865514\n",
      "1399 times, best_k is 1.152643946699176 and best_b is 15.89426548105584 , loss is 75.10244561015543\n",
      "1409 times, best_k is 1.1528665948716195 and best_b is 15.893054498967453 , loss is 75.10092956575005\n",
      "1419 times, best_k is 1.1530867502512645 and best_b is 15.891843154961526 , loss is 75.09941374793345\n",
      "1429 times, best_k is 1.153304609398923 and best_b is 15.890631479937692 , loss is 75.09789813337359\n",
      "1439 times, best_k is 1.1535203533476484 and best_b is 15.889419502354547 , loss is 75.09638270227879\n",
      "1449 times, best_k is 1.153734148829386 and best_b is 15.888207248422473 , loss is 75.09486743785999\n",
      "1459 times, best_k is 1.1539461494047216 and best_b is 15.886994742281253 , loss is 75.09335232587559\n",
      "1469 times, best_k is 1.1541564965033833 and best_b is 15.885782006163641 , loss is 75.09183735424476\n",
      "1479 times, best_k is 1.154365320382546 and best_b is 15.884569060546 , loss is 75.09032251271941\n",
      "1489 times, best_k is 1.1545727410094322 and best_b is 15.883355924287068 , loss is 75.08880779260598\n",
      "1499 times, best_k is 1.1547788688741902 and best_b is 15.882142614755734 , loss is 75.08729318652989\n",
      "1509 times, best_k is 1.1549838057385575 and best_b is 15.880929147948745 , loss is 75.0857786882347\n",
      "1519 times, best_k is 1.1551876453253809 and best_b is 15.879715538599076 , loss is 75.08426429241342\n",
      "1529 times, best_k is 1.1553904739536671 and best_b is 15.878501800275803 , loss is 75.0827499945637\n",
      "1539 times, best_k is 1.155592371123466 and best_b is 15.877287945476008 , loss is 75.08123579086569\n",
      "1549 times, best_k is 1.1557934100545497 and best_b is 15.876073985709493 , loss is 75.07972167807887\n",
      "1559 times, best_k is 1.1559936581825367 and best_b is 15.874859931576761 , loss is 75.07820765345406\n",
      "1569 times, best_k is 1.1561931776158247 and best_b is 15.873645792840847 , loss is 75.07669371465862\n",
      "1579 times, best_k is 1.1563920255564268 and best_b is 15.872431578493476 , loss is 75.07517985971305\n",
      "1589 times, best_k is 1.1565902546875615 and best_b is 15.871217296815995 , loss is 75.07366608693852\n",
      "1599 times, best_k is 1.1567879135306263 and best_b is 15.870002955435497 , loss is 75.0721523949097\n",
      "1609 times, best_k is 1.156985046773969 and best_b is 15.868788561376496 , loss is 75.07063878241713\n",
      "1619 times, best_k is 1.157181695575689 and best_b is 15.867574121108532 , loss is 75.06912524843479\n",
      "1629 times, best_k is 1.1573778978425175 and best_b is 15.866359640590016 , loss is 75.06761179209127\n",
      "1639 times, best_k is 1.1575736884866654 and best_b is 15.865145125308603 , loss is 75.0660984126475\n",
      "1649 times, best_k is 1.157769099662383 and best_b is 15.863930580318385 , loss is 75.06458510947533\n",
      "1659 times, best_k is 1.1579641609838327 and best_b is 15.862716010274141 , loss is 75.06307188204217\n",
      "1669 times, best_k is 1.1581588997257464 and best_b is 15.861501419462874 , loss is 75.0615587298947\n",
      "1679 times, best_k is 1.1583533410082363 and best_b is 15.860286811832873 , loss is 75.06004565264902\n",
      "1689 times, best_k is 1.158547507967002 and best_b is 15.859072191020468 , loss is 75.05853264997816\n",
      "1699 times, best_k is 1.1587414219100962 and best_b is 15.857857560374672 , loss is 75.05701972160455\n",
      "1709 times, best_k is 1.1589351024623014 and best_b is 15.856642922979878 , loss is 75.05550686729215\n",
      "1719 times, best_k is 1.159128567698105 and best_b is 15.855428281676772 , loss is 75.05399408684032\n",
      "1729 times, best_k is 1.1593218342641676 and best_b is 15.854213639081571 , loss is 75.052481380078\n",
      "1739 times, best_k is 1.1595149174921182 and best_b is 15.852998997603764 , loss is 75.05096874685992\n",
      "1749 times, best_k is 1.1597078315024376 and best_b is 15.851784359462444 , loss is 75.04945618706203\n",
      "1759 times, best_k is 1.1599005893001364 and best_b is 15.850569726701345 , loss is 75.04794370057905\n",
      "1769 times, best_k is 1.160093202862873 and best_b is 15.849355101202699 , loss is 75.04643128732053\n",
      "1779 times, best_k is 1.1602856832221127 and best_b is 15.848140484699986 , loss is 75.04491894720961\n",
      "1789 times, best_k is 1.1604780405378734 and best_b is 15.846925878789683 , loss is 75.04340668018055\n",
      "1799 times, best_k is 1.1606702841675678 and best_b is 15.845711284942112 , loss is 75.04189448617674\n",
      "1809 times, best_k is 1.1608624227294075 and best_b is 15.84449670451138 , loss is 75.0403823651502\n",
      "1819 times, best_k is 1.1610544641607985 and best_b is 15.843282138744563 , loss is 75.03887031705904\n",
      "1829 times, best_k is 1.161246415772122 and best_b is 15.842067588790174 , loss is 75.03735834186764\n",
      "1839 times, best_k is 1.161438284296267 and best_b is 15.840853055705937 , loss is 75.03584643954518\n",
      "1849 times, best_k is 1.1616300759342515 and best_b is 15.839638540465963 , loss is 75.03433461006502\n",
      "1859 times, best_k is 1.1618217963972388 and best_b is 15.838424043967356 , loss is 75.03282285340367\n",
      "1869 times, best_k is 1.1620134509452351 and best_b is 15.8372095670363 , loss is 75.03131116954125\n",
      "1879 times, best_k is 1.1622050444227292 and best_b is 15.835995110433648 , loss is 75.02979955845993\n",
      "1889 times, best_k is 1.1623965812915167 and best_b is 15.834780674860102 , loss is 75.0282880201442\n",
      "1899 times, best_k is 1.1625880656609322 and best_b is 15.833566260960941 , loss is 75.02677655458041\n",
      "1909 times, best_k is 1.1627795013156936 and best_b is 15.83235186933043 , loss is 75.02526516175642\n",
      "1919 times, best_k is 1.162970891741544 and best_b is 15.831137500515828 , loss is 75.02375384166126\n",
      "1929 times, best_k is 1.1631622401488724 and best_b is 15.829923155021099 , loss is 75.02224259428542\n",
      "1939 times, best_k is 1.1633535494944631 and best_b is 15.828708833310348 , loss is 75.02073141961993\n",
      "1949 times, best_k is 1.1635448225015328 and best_b is 15.827494535810958 , loss is 75.01922031765704\n",
      "1959 times, best_k is 1.163736061678179 and best_b is 15.826280262916494 , loss is 75.01770928838921\n",
      "1969 times, best_k is 1.1639272693343754 and best_b is 15.825066014989378 , loss is 75.01619833180993\n",
      "1979 times, best_k is 1.164118447597623 and best_b is 15.823851792363342 , loss is 75.01468744791295\n",
      "1989 times, best_k is 1.1643095984273653 and best_b is 15.822637595345704 , loss is 75.01317663669222\n",
      "1999 times, best_k is 1.164500723628262 and best_b is 15.821423424219441 , loss is 75.01166589814262\n"
     ]
    },
    {
     "data": {
      "text/plain": [
       "(1.1645389457416244, 15.821180593124458)"
      ]
     },
     "execution_count": 204,
     "metadata": {},
     "output_type": "execute_result"
    }
   ],
   "source": [
    "get_k_and_b_by_with_supervised_direction(2000)"
   ]
  },
  {
   "cell_type": "markdown",
   "metadata": {},
   "source": [
    "##### 1.3.Gradient Descent to get optimal *k* and *b*"
   ]
  },
  {
   "cell_type": "code",
   "execution_count": 211,
   "metadata": {},
   "outputs": [],
   "source": [
    "def partial_k(x, y, y_hat):\n",
    "    n = len(y)\n",
    "\n",
    "    gradient = 0\n",
    "    \n",
    "    for x_i, y_i, y_hat_i in zip(list(x), list(y), list(y_hat)):\n",
    "        gradient += (y_i - y_hat_i) * x_i\n",
    "    \n",
    "    return -2 / n * gradient\n",
    "\n",
    "\n",
    "def partial_b(x, y, y_hat):\n",
    "    n = len(y)\n",
    "\n",
    "    gradient = 0\n",
    "    \n",
    "    for y_i, y_hat_i in zip(list(y), list(y_hat)):\n",
    "        gradient += (y_i - y_hat_i)\n",
    "    \n",
    "    return -2 / n * gradient"
   ]
  },
  {
   "cell_type": "code",
   "execution_count": 217,
   "metadata": {},
   "outputs": [],
   "source": [
    "def get_k_and_b_by_with_gradient_descent(times):\n",
    "    cur_loss = float('inf')\n",
    "    k = random.random() * 200 -100\n",
    "    b = random.random() * 200 -100\n",
    "   \n",
    "    learning_rate = 1e-04\n",
    "    update_times = 0\n",
    "    for i in range(times+1):\n",
    "        Y_hat = [price(rm, k, b) for rm in X_RM]\n",
    "        new_loss = loss(Y, Y_hat)\n",
    "        if new_loss < cur_loss:\n",
    "            cur_loss = new_loss\n",
    "            update_times += 1\n",
    "            if update_times % 100 == 0:\n",
    "                print(\"{} times, best_k is {} and best_b is {} , loss is {}\".format(i, k, b, cur_loss))\n",
    "                \n",
    "        k_gradient = partial_k(X_RM, Y, Y_hat)\n",
    "        b_gradient = partial_b(X_RM, Y, Y_hat)\n",
    "        k = k + (-1 * k_gradient) * learning_rate\n",
    "        b = b + (-1 * b_gradient) * learning_rate\n",
    "        \n",
    "    return k, b"
   ]
  },
  {
   "cell_type": "code",
   "execution_count": 218,
   "metadata": {},
   "outputs": [
    {
     "name": "stdout",
     "output_type": "stream",
     "text": [
      "99 times, best_k is 30.96389370152684 and best_b is -88.44732468382617 , loss is 7270.81729570501\n",
      "199 times, best_k is 23.62331910842274 and best_b is -89.5875436050508 , loss is 1468.348344382396\n",
      "299 times, best_k is 20.39855009713191 and best_b is -90.0807403306593 , loss is 349.33058348377784\n",
      "399 times, best_k is 18.981221989520986 and best_b is -90.28980148994569 , loss is 133.51374924993652\n",
      "499 times, best_k is 18.35762507541778 and best_b is -90.37408738774492 , loss is 91.87871126469176\n",
      "599 times, best_k is 18.082592529008316 and best_b is -90.40358050513673 , loss is 83.83454156266932\n",
      "699 times, best_k is 17.960631004558955 and best_b is -90.40901338636573 , loss is 82.26835900876536\n",
      "799 times, best_k is 17.90589033079224 and best_b is -90.40388211279573 , loss is 81.95145977069956\n",
      "899 times, best_k is 17.88066972618946 and best_b is -90.3941134376182 , loss is 81.87549126120156\n",
      "999 times, best_k is 17.868413033561204 and best_b is -90.38231007188375 , loss is 81.84599324932945\n",
      "1099 times, best_k is 17.8618496783654 and best_b is -90.36961498597584 , loss is 81.82546418583297\n",
      "1199 times, best_k is 17.857786814931366 and best_b is -90.35653011062696 , loss is 81.8066719146662\n",
      "1299 times, best_k is 17.85482231696274 and best_b is -90.34327586640575 , loss is 81.78822171518553\n",
      "1399 times, best_k is 17.85234044587522 and best_b is -90.32994904974572 , loss is 81.76984461287212\n",
      "1499 times, best_k is 17.850070802305492 and best_b is -90.31659216800446 , loss is 81.7514887327143\n",
      "1599 times, best_k is 17.847894641316756 and best_b is -90.30322388769494 , loss is 81.73314406721873\n",
      "1699 times, best_k is 17.84575981644623 and best_b is -90.28985240571271 , loss is 81.71480868302214\n",
      "1799 times, best_k is 17.843643427701714 and best_b is -90.27648132125996 , loss is 81.69648220385314\n",
      "1899 times, best_k is 17.841535418569176 and best_b is -90.26311221447929 , loss is 81.67816455372736\n",
      "1999 times, best_k is 17.83943137269991 and best_b is -90.2497457788508 , loss is 81.65985571457117\n",
      "2099 times, best_k is 17.837329350602822 and best_b is -90.2363823184803 , loss is 81.64155567948174\n",
      "2199 times, best_k is 17.83522850048952 and best_b is -90.2230219664813 , loss is 81.62326444371125\n",
      "2299 times, best_k is 17.833128448232213 and best_b is -90.20966478087699 , loss is 81.6049820029298\n",
      "2399 times, best_k is 17.831029029465967 and best_b is -90.19631078671475 , loss is 81.58670835288902\n",
      "2499 times, best_k is 17.828930171942478 and best_b is -90.1829599945611 , loss is 81.5684434893587\n",
      "2599 times, best_k is 17.82683184386612 and best_b is -90.16961240862345 , loss is 81.55018740811316\n",
      "2699 times, best_k is 17.824734031205956 and best_b is -90.15626803031654 , loss is 81.53194010492962\n",
      "2799 times, best_k is 17.82263672773226 and best_b is -90.1429268598289 , loss is 81.51370157558705\n",
      "2899 times, best_k is 17.820539930641313 and best_b is -90.12958889681092 , loss is 81.49547181586705\n",
      "2999 times, best_k is 17.818443638633855 and best_b is -90.11625414067635 , loss is 81.47725082155253\n",
      "3099 times, best_k is 17.81634785107137 and best_b is -90.1029225907355 , loss is 81.45903858842934\n",
      "3199 times, best_k is 17.814252567605497 and best_b is -90.08959424625313 , loss is 81.44083511228433\n",
      "3299 times, best_k is 17.812157788015273 and best_b is -90.07626910647413 , loss is 81.42264038890721\n",
      "3399 times, best_k is 17.810063512135763 and best_b is -90.06294717063491 , loss is 81.40445441408929\n",
      "3499 times, best_k is 17.807969739826653 and best_b is -90.04962843796805 , loss is 81.38627718362392\n",
      "3599 times, best_k is 17.805876470958385 and best_b is -90.03631290770474 , loss is 81.36810869330665\n",
      "3699 times, best_k is 17.803783705406197 and best_b is -90.02300057907551 , loss is 81.34994893893492\n",
      "3799 times, best_k is 17.80169144304745 and best_b is -90.00969145131084 , loss is 81.3317979163083\n",
      "3899 times, best_k is 17.799599683760462 and best_b is -89.99638552364128 , loss is 81.31365562122815\n",
      "3999 times, best_k is 17.79750842742392 and best_b is -89.98308279529735 , loss is 81.29552204949822\n",
      "4099 times, best_k is 17.795417673916784 and best_b is -89.96978326550982 , loss is 81.27739719692383\n",
      "4199 times, best_k is 17.79332742311808 and best_b is -89.95648693350974 , loss is 81.25928105931297\n",
      "4299 times, best_k is 17.79123767490692 and best_b is -89.9431937985281 , loss is 81.24117363247476\n",
      "4399 times, best_k is 17.78914842916242 and best_b is -89.92990385979621 , loss is 81.22307491222098\n",
      "4499 times, best_k is 17.787059685763793 and best_b is -89.91661711654565 , loss is 81.20498489436537\n",
      "4599 times, best_k is 17.784971444590234 and best_b is -89.90333356800797 , loss is 81.1869035747235\n",
      "4699 times, best_k is 17.78288370552099 and best_b is -89.8900532134151 , loss is 81.16883094911283\n",
      "4799 times, best_k is 17.780796468435337 and best_b is -89.87677605199906 , loss is 81.15076701335327\n",
      "4899 times, best_k is 17.778709733212565 and best_b is -89.86350208299199 , loss is 81.13271176326617\n",
      "4999 times, best_k is 17.776623499732008 and best_b is -89.85023130562645 , loss is 81.11466519467557\n",
      "5099 times, best_k is 17.774537767873014 and best_b is -89.83696371913489 , loss is 81.09662730340695\n",
      "5199 times, best_k is 17.772452537515 and best_b is -89.82369932275017 , loss is 81.07859808528806\n",
      "5299 times, best_k is 17.770367808537358 and best_b is -89.8104381157052 , loss is 81.06057753614847\n",
      "5399 times, best_k is 17.768283580819546 and best_b is -89.7971800972331 , loss is 81.04256565181993\n",
      "5499 times, best_k is 17.766199854241027 and best_b is -89.78392526656728 , loss is 81.02456242813629\n",
      "5599 times, best_k is 17.764116628681336 and best_b is -89.77067362294125 , loss is 81.00656786093309\n",
      "5699 times, best_k is 17.76203390401999 and best_b is -89.75742516558869 , loss is 80.98858194604821\n",
      "5799 times, best_k is 17.75995168013653 and best_b is -89.74417989374338 , loss is 80.9706046793212\n",
      "5899 times, best_k is 17.757869956910547 and best_b is -89.73093780663953 , loss is 80.95263605659382\n",
      "5999 times, best_k is 17.755788734221685 and best_b is -89.71769890351135 , loss is 80.93467607370981\n",
      "6099 times, best_k is 17.753708011949595 and best_b is -89.70446318359322 , loss is 80.91672472651489\n",
      "6199 times, best_k is 17.75162778997394 and best_b is -89.69123064611979 , loss is 80.8987820108567\n",
      "6299 times, best_k is 17.749548068174438 and best_b is -89.67800129032581 , loss is 80.88084792258476\n",
      "6399 times, best_k is 17.747468846430817 and best_b is -89.66477511544628 , loss is 80.86292245755101\n",
      "6499 times, best_k is 17.74539012462284 and best_b is -89.65155212071645 , loss is 80.84500561160928\n",
      "6599 times, best_k is 17.7433119026303 and best_b is -89.63833230537153 , loss is 80.82709738061492\n",
      "6699 times, best_k is 17.741234180333024 and best_b is -89.62511566864731 , loss is 80.80919776042592\n",
      "6799 times, best_k is 17.739156957610877 and best_b is -89.61190220977923 , loss is 80.79130674690165\n",
      "6899 times, best_k is 17.73708023434371 and best_b is -89.59869192800338 , loss is 80.77342433590405\n",
      "6999 times, best_k is 17.735004010411448 and best_b is -89.58548482255578 , loss is 80.7555505232967\n",
      "7099 times, best_k is 17.73292828569403 and best_b is -89.57228089267268 , loss is 80.73768530494505\n",
      "7199 times, best_k is 17.730853060071436 and best_b is -89.55908013759064 , loss is 80.71982867671701\n",
      "7299 times, best_k is 17.72877833342363 and best_b is -89.54588255654609 , loss is 80.70198063448187\n",
      "7399 times, best_k is 17.726704105630652 and best_b is -89.53268814877606 , loss is 80.68414117411152\n",
      "7499 times, best_k is 17.724630376572563 and best_b is -89.51949691351746 , loss is 80.6663102914794\n",
      "7599 times, best_k is 17.722557146129454 and best_b is -89.50630885000756 , loss is 80.64848798246119\n",
      "7699 times, best_k is 17.72048441418141 and best_b is -89.49312395748366 , loss is 80.63067424293438\n",
      "7799 times, best_k is 17.718412180608595 and best_b is -89.47994223518334 , loss is 80.61286906877861\n",
      "7899 times, best_k is 17.71634044529115 and best_b is -89.46676368234425 , loss is 80.59507245587506\n",
      "7999 times, best_k is 17.714269208109297 and best_b is -89.4535882982045 , loss is 80.57728440010762\n",
      "8099 times, best_k is 17.71219846894326 and best_b is -89.44041608200206 , loss is 80.55950489736162\n",
      "8199 times, best_k is 17.710128227673287 and best_b is -89.42724703297526 , loss is 80.54173394352436\n",
      "8299 times, best_k is 17.708058484179663 and best_b is -89.41408115036252 , loss is 80.52397153448554\n"
     ]
    },
    {
     "name": "stdout",
     "output_type": "stream",
     "text": [
      "8399 times, best_k is 17.7059892383427 and best_b is -89.40091843340252 , loss is 80.50621766613622\n",
      "8499 times, best_k is 17.703920490042744 and best_b is -89.38775888133416 , loss is 80.48847233437021\n",
      "8599 times, best_k is 17.701852239160154 and best_b is -89.37460249339641 , loss is 80.47073553508267\n",
      "8699 times, best_k is 17.699784485575357 and best_b is -89.36144926882854 , loss is 80.45300726417094\n",
      "8799 times, best_k is 17.69771722916873 and best_b is -89.34829920686984 , loss is 80.43528751753419\n",
      "8899 times, best_k is 17.695650469820784 and best_b is -89.3351523067599 , loss is 80.41757629107393\n",
      "8999 times, best_k is 17.69358420741198 and best_b is -89.3220085677385 , loss is 80.3998735806933\n",
      "9099 times, best_k is 17.691518441822822 and best_b is -89.30886798904551 , loss is 80.38217938229738\n",
      "9199 times, best_k is 17.689453172933877 and best_b is -89.29573056992112 , loss is 80.36449369179344\n",
      "9299 times, best_k is 17.68738840062569 and best_b is -89.2825963096057 , loss is 80.34681650509083\n",
      "9399 times, best_k is 17.685324124778884 and best_b is -89.26946520733962 , loss is 80.32914781810052\n",
      "9499 times, best_k is 17.68326034527408 and best_b is -89.25633726236362 , loss is 80.31148762673567\n",
      "9599 times, best_k is 17.681197061991938 and best_b is -89.24321247391855 , loss is 80.29383592691124\n",
      "9699 times, best_k is 17.67913427481314 and best_b is -89.23009084124537 , loss is 80.27619271454425\n",
      "9799 times, best_k is 17.677071983618408 and best_b is -89.21697236358534 , loss is 80.25855798555375\n",
      "9899 times, best_k is 17.675010188288482 and best_b is -89.20385704017984 , loss is 80.24093173586068\n",
      "9999 times, best_k is 17.67294888870411 and best_b is -89.19074487027046 , loss is 80.22331396138773\n"
     ]
    },
    {
     "data": {
      "text/plain": [
       "(17.672907667768207, -89.19048265903272)"
      ]
     },
     "execution_count": 218,
     "metadata": {},
     "output_type": "execute_result"
    }
   ],
   "source": [
    "get_k_and_b_by_with_gradient_descent(10000)"
   ]
  },
  {
   "cell_type": "code",
   "execution_count": 216,
   "metadata": {
    "scrolled": true
   },
   "outputs": [
    {
     "data": {
      "text/plain": [
       "<matplotlib.collections.PathCollection at 0x7f3de44a3828>"
      ]
     },
     "execution_count": 216,
     "metadata": {},
     "output_type": "execute_result"
    },
    {
     "data": {
      "image/png": "[encoded data removed]",
      "text/plain": [
       "<Figure size 432x288 with 1 Axes>"
      ]
     },
     "metadata": {
      "needs_background": "light"
     },
     "output_type": "display_data"
    }
   ],
   "source": [
    "k, b = 17.763502276659363, -89.76676565722991\n",
    "price_by_random_k_and_b = [price(rm, k, b) for rm in X_RM]\n",
    "draw_rm_and_price()\n",
    "plot.scatter(X_RM, price_by_random_k_and_b)"
   ]
  },
  {
   "cell_type": "code",
   "execution_count": null,
   "metadata": {},
   "outputs": [],
   "source": []
  },
  {
   "cell_type": "code",
   "execution_count": null,
   "metadata": {},
   "outputs": [],
   "source": []
  },
  {
   "cell_type": "code",
   "execution_count": null,
   "metadata": {},
   "outputs": [],
   "source": []
  },
  {
   "cell_type": "markdown",
   "metadata": {},
   "source": [
    "![](https://timgsa.baidu.com/timg?image&quality=80&size=b9999_10000&sec=1562414412237&di=8377c38d7b50c6f8d45b92ccc78dc1e7&imgtype=0&src=http%3A%2F%2Fmmbiz.qpic.cn%2Fmmbiz_jpg%2FlSyiavfm6wPgQDuDYa42IMgSkLOcPJU91RbkMibGy7VHLrhhNVLibTYk1iaLcmXKTdHc4icTDVia59QFXwqpW8cLflaw%2F640%3Fwx_fmt%3Djpeg)"
   ]
  },
  {
   "cell_type": "markdown",
   "metadata": {},
   "source": [
    "## 2. Answer following questions:\n",
    "\n",
    "\n",
    "###### 1. Why do we need machine learning methods instead of creating a complicated formula?\n"
   ]
  },
  {
   "cell_type": "markdown",
   "metadata": {},
   "source": [
    "Ans: 要解决的问题越来越复杂，通过写复杂的公式和规则已经无法解决问题，并且设计公式和函数的方式有滞后性，需要人根据出现的问题不断的跟新函数或公式"
   ]
  },
  {
   "cell_type": "markdown",
   "metadata": {},
   "source": [
    "###### 2.  Wha't's the disadvantages of `the 1st Random Choosen` methods in our course? "
   ]
  },
  {
   "cell_type": "markdown",
   "metadata": {},
   "source": [
    "Ans: 依靠随机数，需要通过大量的尝试获得相对优秀的解，需要耗费大量的时间"
   ]
  },
  {
   "cell_type": "markdown",
   "metadata": {},
   "source": [
    "###### 3. Is the `2nd method supervised direction` better than 1st one?  What's the disadvantages of `the 2nd supversied directin` method? "
   ]
  },
  {
   "cell_type": "markdown",
   "metadata": {},
   "source": [
    "Ans: 第二个方法要比第一个随机的随机方式好，求解的时间会大大减少，因为在求解过程中，会根据loss的是否变小，调整求解的方向。\n",
    "缺点在于，在选取求解方向的时候，是随机的，无法保证下一次求解的方向时朝着最优解靠近"
   ]
  },
  {
   "cell_type": "markdown",
   "metadata": {},
   "source": [
    "###### 4. Why do we use `Derivative / Gredient` to fit a target function? "
   ]
  },
  {
   "cell_type": "markdown",
   "metadata": {},
   "source": [
    "Ans: 运用导数方式来求解，可以通过导数的值来判断最优解的方向，不需要通过数据求解后判断方向，所以可以更快速的求解"
   ]
  },
  {
   "cell_type": "markdown",
   "metadata": {},
   "source": [
    "###### 5. In the words 'Gredient Descent', what's the `Gredient` and what's the `Descent`?"
   ]
  },
  {
   "cell_type": "markdown",
   "metadata": {},
   "source": [
    "Ans: 梯度就是导数的值。下降指的是当导数的值逐渐减，可以不断接近原方程最优的解"
   ]
  },
  {
   "cell_type": "markdown",
   "metadata": {},
   "source": [
    "###### 6. What's the advantages of `the 3rd gradient descent method` compared to the previous methods?"
   ]
  },
  {
   "cell_type": "markdown",
   "metadata": {},
   "source": [
    "Ans:　通过导数求解可以定位最优解得到方向，从而可以比其他方法更快速的求得最优解"
   ]
  },
  {
   "cell_type": "markdown",
   "metadata": {},
   "source": [
    "###### 7. Using the simple words to describe: What's the machine leanring."
   ]
  },
  {
   "cell_type": "markdown",
   "metadata": {},
   "source": [
    "Ans:　运用大量数据来构建可以描述实际问题函数"
   ]
  },
  {
   "cell_type": "markdown",
   "metadata": {},
   "source": [
    "## 3. Finish the search problem"
   ]
  },
  {
   "cell_type": "markdown",
   "metadata": {},
   "source": [
    "Please using the search policy to implement an agent. This agent receives two input, one is @param start station and the other is @param destination. Your agent should give the optimal route based on Beijing Subway system. "
   ]
  },
  {
   "cell_type": "markdown",
   "metadata": {},
   "source": [
    "> Deadline: 2019-July-13\n",
    "\n",
    ">Submit: Submit the source code and result to github. \n",
    "\n"
   ]
  },
  {
   "cell_type": "markdown",
   "metadata": {},
   "source": [
    "![](https://timgsa.baidu.com/timg?image&quality=80&size=b9999_10000&sec=1562414356407&di=b57814aafd215bb8b8d9d8cd37c573d6&imgtype=0&src=http%3A%2F%2Fcli.clewm.net%2Ffile%2F2015%2F03%2F24%2F174ed60082b8422ac0636cfd3efb9e7f.jpg)"
   ]
  },
  {
   "cell_type": "markdown",
   "metadata": {},
   "source": [
    "#### Dataflow: "
   ]
  },
  {
   "cell_type": "markdown",
   "metadata": {},
   "source": [
    "##### 1.\tGet data from web page.\n",
    "\n",
    "> a.\tGet web page source from: https://baike.baidu.com/item/%E5%8C%97%E4%BA%AC%E5%9C%B0%E9%93%81/408485\n",
    "\n",
    "> b.\tYou may need @package **requests**[https://2.python-requests.org/en/master/] page to get the response via url\n",
    "\n",
    "> c.\tYou may need save the page source to file system.\n",
    "\n",
    "> d.\tThe target of this step is to get station information of all the subway lines;\n",
    "\n",
    "> e.\tYou may need install @package beautiful soup[https://www.crummy.com/software/BeautifulSoup/bs4/doc/]  to get the url information, or just use > Regular Expression to get the url.  Our recommendation is that using the Regular Expression and BeautiflSoup both. \n",
    "\n",
    "> f.\tYou may need BFS to get all the related page url from one url. \n",
    "Question: Why do we use BFS to traverse web page (or someone said, build a web spider)?  Can DFS do this job? which is better? "
   ]
  },
  {
   "cell_type": "markdown",
   "metadata": {},
   "source": [
    "##### 2.\tPreprocessing data from page source.\n",
    "\n",
    "> a.\tBased on the page source gotten from url. You may need some more preprocessing of the page. \n",
    "\n",
    "> b.\tthe Regular Expression you may need to process the text information.\n",
    "\n",
    "> c.\tYou may need @package networkx, @package matplotlib to visualize data. \n",
    "\n",
    "> d.\tYou should build a dictionary or graph which could represent the connection information of Beijing subway routes. \n",
    "\n",
    "> e.\tYou may need the defaultdict, set data structures to implement this procedure. "
   ]
  },
  {
   "cell_type": "markdown",
   "metadata": {},
   "source": [
    "##### 3. Build the search agent\n",
    "\n",
    "> Build the search agent based on the graph we build.\n",
    "\n",
    "for example, when you run: \n",
    "\n",
    "```python\n",
    ">>> search('奥体中心', '天安门') \n",
    "```\n",
    "you need get the result: \n",
    "\n",
    "奥体中心-> A -> B -> C -> ... -> 天安门\n",
    "\n"
   ]
  },
  {
   "cell_type": "markdown",
   "metadata": {},
   "source": [
    "## （Optional）Create different policies for transfer system.\n"
   ]
  },
  {
   "cell_type": "markdown",
   "metadata": {},
   "source": [
    "以下部门为可选部分，请酌情完成。 并不要求全部同学完成。"
   ]
  },
  {
   "cell_type": "markdown",
   "metadata": {},
   "source": [
    "As much as you can to use the already implemented search agent. You just need to define the **is_goal()**, **get_successor()**, **strategy()** three functions. \n",
    "\n",
    "> a.\tDefine different policies for transfer system. \n",
    "\n",
    "> b.\tSuch as Shortest Path Priority（路程最短优先）, Minimum Transfer Priority(最少换乘优先), Comprehensive Priority(综合优先)\n",
    "\n",
    "> c.\tImplement Continuous transfer. Based on the Agent you implemented, please add this feature: Besides the @param start and @param destination two stations, add some more stations, we called @param by_way, it means, our path should from the start and end, but also include the  @param by_way stations. \n",
    "\n",
    "e.g \n",
    "```\n",
    "1. Input:  start=A,  destination=B, by_way=[C] \n",
    "    Output: [A, … .., C, …. B]\n",
    "2. Input: start=A, destination=B, by_way=[C, D, E]\n",
    "    Output: [A … C … E … D … B]  \n",
    "    # based on your policy, the E station could be reached firstly. \n",
    "![image.png](attachment:image.png)\n",
    "```"
   ]
  },
  {
   "cell_type": "markdown",
   "metadata": {},
   "source": [
    "##### 5.\tTest your result with commercial applications. \n",
    "\n",
    "将你的结果和高德地图或者百度地图进行比较，如果有不同，请分析原因\n"
   ]
  },
  {
   "cell_type": "markdown",
   "metadata": {},
   "source": [
    "恭喜，完成本次课程，你对常用的人工智能方法以及有一定的了解了。基于规则的，基于概率模型的，基于搜索的，基于机器学习的。 可以说，我们现在通常见到的方法都能够归属到这几类方法中。 这就是**人工智能**，并没有很难是吧？ 继续加油！"
   ]
  },
  {
   "cell_type": "markdown",
   "metadata": {},
   "source": [
    "![](https://timgsa.baidu.com/timg?image&quality=80&size=b9999_10000&sec=1562415163815&di=4b29a2a863a8285212033760f288ed7a&imgtype=0&src=http%3A%2F%2F5b0988e595225.cdn.sohucs.com%2Fimages%2F20180710%2F8704194a1d7f46a383ddc29d40c9bca5.jpeg)"
   ]
  }
 ],
 "metadata": {
  "kernelspec": {
   "display_name": "Python 3",
   "language": "python",
   "name": "python3"
  },
  "language_info": {
   "codemirror_mode": {
    "name": "ipython",
    "version": 3
   },
   "file_extension": ".py",
   "mimetype": "text/x-python",
   "name": "python",
   "nbconvert_exporter": "python",
   "pygments_lexer": "ipython3",
   "version": "3.7.3"
  }
 },
 "nbformat": 4,
 "nbformat_minor": 2
}
